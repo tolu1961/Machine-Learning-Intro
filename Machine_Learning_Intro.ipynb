{
  "nbformat": 4,
  "nbformat_minor": 0,
  "metadata": {
    "colab": {
      "provenance": []
    },
    "kernelspec": {
      "name": "python3",
      "display_name": "Python 3"
    },
    "language_info": {
      "name": "python"
    }
  },
  "cells": [
    {
      "cell_type": "markdown",
      "source": [
        "**Question 1:** Explain the differences between AI, ML, Deep Learning (DL), and Data Science (DS).\n",
        "\n",
        "**Answer:**\n",
        "1. Artificial Intelligence (AI)\n",
        "\n",
        "- Definition: AI is the broadest concept. It refers to machines or systems designed to perform tasks that normally require human intelligence.\n",
        "\n",
        "- Examples of tasks: reasoning, decision-making, natural language understanding, image recognition, problem-solving.\n",
        "\n",
        "- Scope: AI includes rule-based systems, expert systems, ML, robotics, and DL.\n",
        "\n",
        "- Example: A chatbot that can answer questions, a self-driving car.\n",
        "\n",
        "2. Machine Learning (ML)\n",
        "\n",
        "- Definition: ML is a subset of AI that focuses on teaching machines to learn from data and improve over time without being explicitly programmed.\n",
        "\n",
        "- Key idea: Instead of hardcoding rules, ML algorithms find patterns and make predictions.\n",
        "\n",
        "- Techniques: regression, classification, clustering, reinforcement learning.\n",
        "\n",
        "- Example: A spam filter that learns which emails are spam based on training data.\n",
        "\n",
        "3. Deep Learning (DL)\n",
        "\n",
        "- Definition: DL is a subset of ML that uses artificial neural networks with many layers (hence “deep”).\n",
        "\n",
        "- Strength: Excellent at handling unstructured data like images, audio, and text.\n",
        "\n",
        "- Why special? Requires huge amounts of data and computing power but delivers state-of-the-art accuracy.\n",
        "\n",
        "- Example: Face recognition in smartphones, voice assistants like Siri/Alexa.\n",
        "\n",
        "4. Data Science (DS)\n",
        "\n",
        "- Definition: DS is a multidisciplinary field that focuses on extracting insights and knowledge from data (structured and unstructured).\n",
        "\n",
        "- Scope: Uses statistics, ML, DL, data visualization, and domain expertise.\n",
        "\n",
        "- Goal: Turn raw data into actionable insights for decision-making.\n",
        "\n",
        "- Example: An e-commerce company analyzing customer data to recommend products.\n"
      ],
      "metadata": {
        "id": "OQIr_98W7hum"
      }
    },
    {
      "cell_type": "markdown",
      "source": [
        "**Question 2:** What are the types of machine learning? Describe each with one real-world example.\n",
        "\n",
        "**Answer:**\n",
        "\n",
        "1. Supervised Learning\n",
        "\n",
        "- Definition: The model is trained on a labeled dataset (input data with known outputs). The goal is to learn a mapping from inputs to outputs.\n",
        "\n",
        "- How it works: The algorithm looks at many input-output pairs and learns to predict the output for new, unseen inputs.\n",
        "\n",
        "- Example: Spam Email Detection – Emails are labeled as \"spam\" or \"not spam.\" A supervised learning model uses these labels to learn patterns and classify new emails correctly.\n",
        "\n",
        "2. Unsupervised Learning\n",
        "\n",
        "- Definition: The model is trained on an unlabeled dataset (only input data, no known outputs). The goal is to find hidden patterns, groupings, or structures.\n",
        "\n",
        "- How it works: The algorithm tries to cluster or reduce dimensions in the data without predefined categories.\n",
        "\n",
        "- Example: Customer Segmentation in Marketing – Businesses use customer purchase history data (without labels) to group customers into segments (e.g., budget buyers, premium buyers) for targeted advertising.\n",
        "\n",
        "3. Reinforcement Learning (RL)\n",
        "\n",
        "- Definition: The model (agent) learns by interacting with an environment and receiving feedback in the form of rewards or penalties. The goal is to maximize long-term rewards through trial and error.\n",
        "\n",
        "- How it works: The agent takes actions, observes results, and adjusts its strategy (policy).\n",
        "\n",
        "- Example: Self-Driving Cars – The car (agent) learns how to drive safely by receiving rewards for staying on the road and penalties for collisions.\n",
        "\n",
        "         "
      ],
      "metadata": {
        "id": "Iq7v7lxz9cuP"
      }
    },
    {
      "cell_type": "markdown",
      "source": [
        "**Question 3:** Define overfitting, underfitting, and the bias-variance tradeoff in machine\n",
        "learning.\n",
        "\n",
        "**Answer :**\n",
        "1. Overfitting\n",
        "  - Definition: When a model learns the training data too well, including noise and outliers, leading to poor performance on unseen (test) data.\n",
        "\n",
        "2. Underfitting\n",
        "  - Definition: When a model is too simple to capture the underlying patterns in the data.\n",
        "\n",
        "3. Bias-Variance Tradeoff\n",
        "  - Bias: Error due to oversimplifying the model (assuming data is simpler than it is).\n",
        "      \n",
        "      - High variance --> overfitting.\n",
        "\n",
        "\n"
      ],
      "metadata": {
        "id": "CMrhkGiR8om6"
      }
    },
    {
      "cell_type": "markdown",
      "source": [
        "**Question 4:** What are outliers in a dataset, and list three common techniques for handling them.\n",
        "\n",
        "**Answer:**\n",
        "\n",
        "Outliers in a Dataset\n",
        "\n",
        " - Definition: Outliers are data points that are significantly different from most of the other observations in the dataset.\n",
        "\n",
        "Three Common Techniques for Handling Outliers\n",
        "\n",
        "1. Removal (Deleting Outliers)\n",
        " - If the outlier is due to error or irrelevant to analysis, remove it.\n",
        " - Example: Typo in data entry (salary = 9999999).\n",
        " - Risk: Shouldn’t remove genuine rare cases (like fraud detection).\n",
        "\n",
        "2. Transformation (Scaling/Log Transformation)\n",
        "\n",
        "- Apply mathematical transformations (e.g., log, square root, normalization) to reduce the impact of extreme values.\n",
        "- Example: Converting income data using log scale reduces the effect of very high salaries.\n",
        "\n",
        "3. Capping (Winsorization)\n",
        "  - Replace extreme values with a percentile value (e.g., replace values above the 95th percentile with the 95th percentile).\n",
        "  - Helps limit the influence of extreme values without deleting data."
      ],
      "metadata": {
        "id": "au0dd03UOk4n"
      }
    },
    {
      "cell_type": "markdown",
      "source": [
        "Question 5: Explain the process of handling missing values and mention one imputation technique for numerical and one for categorical data.\n",
        "\n",
        "**Answer:**\n",
        "\n",
        "**Handling Missing Values in a Dataset**\n",
        "\n",
        "Missing values are common in real-world datasets. If not handled properly, they can reduce model accuracy and bias results. The process usually involves:\n",
        "\n",
        "1. Identify Missing Values\n",
        " - Use descriptive statistics or functions like .isnull() in Python to locate them.\n",
        "\n",
        "2. Understand the Cause\n",
        "  - Are they due to data entry errors, sensor failure, or values not applicable?\n",
        "\n",
        "3. Decide on a Strategy\n",
        "\n",
        "- Remove: If too many missing values exist, drop the rows/columns.\n",
        "\n",
        "- Impute: Fill in missing values with estimated ones (preferred).\n",
        "\n",
        "- Model-based prediction: Predict missing values using ML models"
      ],
      "metadata": {
        "id": "wvD5vpvGgXph"
      }
    },
    {
      "cell_type": "markdown",
      "source": [
        "**Question 6:** Write a Python program that:\n",
        "● Creates a synthetic imbalanced dataset with make_classification() from sklearn.datasets.\n",
        "● Prints the class distribution.\n",
        "\n",
        "**Answers:**\n"
      ],
      "metadata": {
        "id": "cTXO2-tEk9QC"
      }
    },
    {
      "cell_type": "code",
      "execution_count": 1,
      "metadata": {
        "id": "DlOUdOlQ7KIH",
        "colab": {
          "base_uri": "https://localhost:8080/"
        },
        "outputId": "95fad6cd-bf8a-411f-f463-258fcb107007"
      },
      "outputs": [
        {
          "output_type": "stream",
          "name": "stdout",
          "text": [
            "Class distribution: Counter({np.int64(0): 896, np.int64(1): 104})\n",
            "Class 0: 896 samples (89.60%)\n",
            "Class 1: 104 samples (10.40%)\n"
          ]
        }
      ],
      "source": [
        "# Import libraries\n",
        "from sklearn.datasets import make_classification\n",
        "import numpy as np\n",
        "from collections import Counter\n",
        "\n",
        "# Step 1: Create a synthetic imbalanced dataset\n",
        "X, y = make_classification(n_samples=1000,       # total samples\n",
        "                           n_features=10,        # number of features\n",
        "                           n_informative=5,      # number of informative features\n",
        "                           n_redundant=2,        # number of redundant features\n",
        "                           n_clusters_per_class=1,\n",
        "                           weights=[0.9, 0.1],   # imbalance: 90% class 0, 10% class 1\n",
        "                           random_state=42)\n",
        "\n",
        "# Step 2: Print the class distribution\n",
        "class_distribution = Counter(y)\n",
        "print(\"Class distribution:\", class_distribution)\n",
        "\n",
        "# Optional: Show percentage distribution\n",
        "for label, count in class_distribution.items():\n",
        "    print(f\"Class {label}: {count} samples ({(count/len(y))*100:.2f}%)\")\n"
      ]
    },
    {
      "cell_type": "markdown",
      "source": [
        "**Question 7:** Implement one-hot encoding using pandas for the following list of colors:\n",
        "['Red', 'Green', 'Blue', 'Green', 'Red']. Print the resulting dataframe.\n",
        "\n",
        "**Answer**"
      ],
      "metadata": {
        "id": "E2WbdFmnlgwK"
      }
    },
    {
      "cell_type": "code",
      "source": [
        "import pandas as pd\n",
        "\n",
        "# Step 1: Create the list of colors\n",
        "colors = ['Red', 'Green', 'Blue', 'Green', 'Red']\n",
        "\n",
        "# Step 2: Convert list into a DataFrame\n",
        "df = pd.DataFrame(colors, columns=['Color'])\n",
        "\n",
        "# Step 3: Apply one-hot encoding\n",
        "one_hot = pd.get_dummies(df['Color'])\n",
        "\n",
        "# Step 4: Print the resulting DataFrame\n",
        "print(\"Original DataFrame:\")\n",
        "print(df)\n",
        "print(\"\\nOne-Hot Encoded DataFrame:\")\n",
        "print(one_hot)\n"
      ],
      "metadata": {
        "colab": {
          "base_uri": "https://localhost:8080/"
        },
        "id": "7onJzDi8leAh",
        "outputId": "b610edc2-1d23-4e05-b703-a87f681bad4e"
      },
      "execution_count": 2,
      "outputs": [
        {
          "output_type": "stream",
          "name": "stdout",
          "text": [
            "Original DataFrame:\n",
            "   Color\n",
            "0    Red\n",
            "1  Green\n",
            "2   Blue\n",
            "3  Green\n",
            "4    Red\n",
            "\n",
            "One-Hot Encoded DataFrame:\n",
            "    Blue  Green    Red\n",
            "0  False  False   True\n",
            "1  False   True  False\n",
            "2   True  False  False\n",
            "3  False   True  False\n",
            "4  False  False   True\n"
          ]
        }
      ]
    },
    {
      "cell_type": "markdown",
      "source": [
        "Question 8: Write a Python script to:\n",
        "\n",
        "● Generate 1000 samples from a normal distribution.\n",
        "\n",
        "● Introduce 50 random missing values.\n",
        "\n",
        "● Fill missing values with the column mean.\n",
        "\n",
        "● Plot a histogram before and after imputation."
      ],
      "metadata": {
        "id": "vwRh4Kb7sHM0"
      }
    },
    {
      "cell_type": "code",
      "source": [
        "import numpy as np\n",
        "import pandas as pd\n",
        "import matplotlib.pyplot as plt\n",
        "\n",
        "# Step 1: Generate 1000 samples from a normal distribution\n",
        "np.random.seed(42)  # for reproducibility\n",
        "data = np.random.normal(loc=50, scale=10, size=1000)  # mean=50, std=10\n",
        "\n",
        "# Convert to DataFrame for easier handling\n",
        "df = pd.DataFrame(data, columns=[\"Values\"])\n",
        "\n",
        "# Step 2: Introduce 50 random missing values\n",
        "missing_indices = np.random.choice(df.index, size=50, replace=False)\n",
        "df.loc[missing_indices, \"Values\"] = np.nan\n",
        "\n",
        "# Step 3: Fill missing values with column mean\n",
        "mean_value = df[\"Values\"].mean()\n",
        "df_filled = df.fillna(mean_value)\n",
        "\n",
        "# Step 4: Plot histogram before and after imputation\n",
        "plt.figure(figsize=(12, 5))\n",
        "\n",
        "# Histogram before imputation\n",
        "plt.subplot(1, 2, 1)\n",
        "plt.hist(df[\"Values\"], bins=30, color='skyblue', edgecolor='black')\n",
        "plt.title(\"Before Imputation (with missing values)\")\n",
        "plt.xlabel(\"Value\")\n",
        "plt.ylabel(\"Frequency\")\n",
        "\n",
        "# Histogram after imputation\n",
        "plt.subplot(1, 2, 2)\n",
        "plt.hist(df_filled[\"Values\"], bins=30, color='lightgreen', edgecolor='black')\n",
        "plt.title(\"After Imputation (filled with mean)\")\n",
        "plt.xlabel(\"Value\")\n",
        "plt.ylabel(\"Frequency\")\n",
        "\n",
        "plt.tight_layout()\n",
        "plt.show()\n"
      ],
      "metadata": {
        "colab": {
          "base_uri": "https://localhost:8080/",
          "height": 268
        },
        "id": "YNAdx29Cr6KQ",
        "outputId": "8da4ae2c-5519-4a84-e906-6afbc67ae70d"
      },
      "execution_count": 3,
      "outputs": [
        {
          "output_type": "display_data",
          "data": {
            "text/plain": [
              "<Figure size 1200x500 with 2 Axes>"
            ],
            "image/png": "[encoded data removed]"
          },
          "metadata": {}
        }
      ]
    },
    {
      "cell_type": "markdown",
      "source": [
        "**Question 9:** Implement Min-Max scaling on the following list of numbers [2, 5, 10, 15, 20] using sklearn .preprocessing. MinMaxScaler. Print the scaled array."
      ],
      "metadata": {
        "id": "PMGGTsDztCW_"
      }
    },
    {
      "cell_type": "code",
      "source": [
        "from sklearn.preprocessing import MinMaxScaler\n",
        "import numpy as np\n",
        "\n",
        "# Step 1: Original data\n",
        "data = np.array([2, 5, 10, 15, 20]).reshape(-1, 1)\n",
        "\n",
        "# Step 2: Apply Min-Max Scaling\n",
        "scaler = MinMaxScaler()\n",
        "scaled_data = scaler.fit_transform(data)\n",
        "\n",
        "# Step 3: Print result\n",
        "print(\"Original Data:\\n\", data.flatten())\n",
        "print(\"Scaled Data:\\n\", scaled_data.flatten())\n"
      ],
      "metadata": {
        "colab": {
          "base_uri": "https://localhost:8080/"
        },
        "id": "TbLVslLwsh88",
        "outputId": "4bb12b80-7786-4455-c886-d300148dad16"
      },
      "execution_count": 4,
      "outputs": [
        {
          "output_type": "stream",
          "name": "stdout",
          "text": [
            "Original Data:\n",
            " [ 2  5 10 15 20]\n",
            "Scaled Data:\n",
            " [0.         0.16666667 0.44444444 0.72222222 1.        ]\n"
          ]
        }
      ]
    },
    {
      "cell_type": "markdown",
      "source": [
        "Question 10: You are working as a data scientist for a retail company. You receive a customer transaction dataset that contains:\n",
        "\n",
        "● Missing ages,\n",
        "\n",
        "● Outliers in transaction amount,\n",
        "\n",
        "● A highly imbalanced target (fraud vs. non-fraud),\n",
        "\n",
        "● Categorical variables like payment method.\n",
        "\n",
        "Explain the step-by-step data preparation plan you’d follow before training a machine learning\n",
        "model. Include how you’d address missing data, outliers, imbalance, and encoding."
      ],
      "metadata": {
        "id": "MDbaKvHQu2yL"
      }
    },
    {
      "cell_type": "code",
      "source": [],
      "metadata": {
        "id": "Pnk4YwDfuxN-"
      },
      "execution_count": null,
      "outputs": []
    }
  ]
}